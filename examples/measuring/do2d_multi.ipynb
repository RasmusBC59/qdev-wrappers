{
 "cells": [
  {
   "cell_type": "markdown",
   "id": "3e5bf5db",
   "metadata": {},
   "source": [
    "# Buffered Messurenment SR830\n",
    "\n",
    "Example notebook of buffered measurement for a bundle of SR830 lock-ins. This notebook is shipped together with the file do2d_multi.py containing the function do2d_multi. The do2d_multi is just a function wrapping the QCoDeS Measurement context manager. The do2d_multi takes a list of SR830 lock-ins and perform a buffered measurement, of either channel 1, channel 2 or both. Optionally a list of non-buffered parameters can be provided to be measured on the same grid as the lock-ins. However, adding a nonbuffered parameter will slow the measurement down."
   ]
  },
  {
   "cell_type": "code",
   "execution_count": 2,
   "id": "56ddf568",
   "metadata": {},
   "outputs": [],
   "source": [
    "# IMPORTS\n",
    "\n",
    "import qcodes as qc\n",
    "import os\n",
    "import numpy as np\n",
    "from qcodes.instrument_drivers.stanford_research.SR830 import SR830\n",
    "from qdev_wrappers.measurement_helpers.do2d_multi import do2d_multi\n",
    "from qcodes.instrument.base import Instrument\n",
    "from qcodes.utils.validators import Numbers, Arrays\n",
    "import qcodes.instrument_drivers.agilent.Agilent_34400A as agi\n",
    "from qcodes.dataset.plotting import plot_dataset"
   ]
  },
  {
   "cell_type": "markdown",
   "id": "3cac0631",
   "metadata": {},
   "source": [
    "### Dummy Generator\n",
    "Virtual instrument to be used instead of af DAC or other external setting parameter"
   ]
  },
  {
   "cell_type": "code",
   "execution_count": 3,
   "id": "3d70cd3a",
   "metadata": {},
   "outputs": [],
   "source": [
    "class DummyGenerator(Instrument):\n",
    "\n",
    "    def __init__(self, name, **kwargs):\n",
    "\n",
    "        super().__init__(name, **kwargs)\n",
    "\n",
    "        self.add_parameter('v_start',\n",
    "                           initial_value=0,\n",
    "                           unit='V',\n",
    "                           label='v start',\n",
    "                           vals=Numbers(0,1e3),\n",
    "                           get_cmd=None,\n",
    "                           set_cmd=None)\n",
    "\n",
    "        self.add_parameter('v_stop',\n",
    "                           initial_value=1,\n",
    "                           unit='V',\n",
    "                           label='v stop',\n",
    "                           vals=Numbers(1,1e3),\n",
    "                           get_cmd=None,\n",
    "                           set_cmd=None)\n",
    "        \n",
    "        self.add_parameter('v_now',\n",
    "                           initial_value=0,\n",
    "                           unit='V',\n",
    "                           label='v_now',\n",
    "                           vals=Numbers(self.v_start(),self.v_stop()),\n",
    "                           get_cmd=None,\n",
    "                           set_cmd=None)"
   ]
  },
  {
   "cell_type": "code",
   "execution_count": 4,
   "id": "d5995074",
   "metadata": {},
   "outputs": [],
   "source": [
    "# The parameter to be set in the outer loop\n",
    "slow = DummyGenerator('slow')\n",
    "\n",
    "# The parameter to be set in the inner loop \n",
    "fast = DummyGenerator('fast')"
   ]
  },
  {
   "cell_type": "markdown",
   "id": "fbc89d83",
   "metadata": {},
   "source": [
    "Connect to and Initialze the SR830s"
   ]
  },
  {
   "cell_type": "code",
   "execution_count": 5,
   "id": "4008e2dc",
   "metadata": {},
   "outputs": [
    {
     "name": "stdout",
     "output_type": "stream",
     "text": [
      "Connected to: Stanford_Research_Systems SR830 (serial:s/n70597, firmware:ver1.07) in 0.29s\n",
      "Connected to: Stanford_Research_Systems SR830 (serial:s/n47762, firmware:ver1.07) in 0.10s\n",
      "Connected to: HEWLETT-PACKARD 34401A (serial:0, firmware:10-5-2) in 0.06s\n"
     ]
    }
   ],
   "source": [
    "sr = SR830('lockin', 'GPIB0::2::INSTR')\n",
    "sr2 = SR830('lockin2', 'GPIB0::1::INSTR')\n",
    "a1 = agi.Agilent_34400A('Agilent1', 'GPIB0::4::INSTR')\n",
    "\n",
    "sr.ch1_display('X')\n",
    "sr.ch1_ratio('none')\n",
    "sr2.ch1_display('X')\n",
    "sr2.ch1_ratio('none')\n",
    "sr.ch2_display('Y')\n",
    "sr.ch2_ratio('none')\n",
    "sr2.ch2_display('Y')\n",
    "sr2.ch2_ratio('none')\n",
    "a1.reset()\n",
    "a1.NPLC.set(10)"
   ]
  },
  {
   "cell_type": "markdown",
   "id": "0360c378",
   "metadata": {},
   "source": [
    "### Tuple of lock-ins"
   ]
  },
  {
   "cell_type": "code",
   "execution_count": 6,
   "id": "4873efe3",
   "metadata": {},
   "outputs": [],
   "source": [
    "lockins = (sr,sr2)"
   ]
  },
  {
   "cell_type": "markdown",
   "id": "b500b7cc",
   "metadata": {},
   "source": [
    "## do2d_multi\n",
    "This is a do2d to be used for a collection of SR830.\n",
    "\n",
    "### Args:\n",
    "*    param_slow: The QCoDeS parameter to sweep over in the outer loop\n",
    "*   start_slow: Starting point of sweep in outer loop\n",
    "*   stop_slow: End point of sweep in the outer loop\n",
    "*   num_points_slow: Number of points to measure in the outer loop\n",
    "*   delay_slow: Delay after setting parameter in the outer loop\n",
    "*   param_fast: The QCoDeS parameter to sweep over in the inner loop\n",
    "*   start_fast: Starting point of sweep in inner loop\n",
    "*   stop_fast: End point of sweep in the inner loop\n",
    "*   num_points_fast: Number of points to measure in the inner loop\n",
    "*   delay_fast: Delay after setting parameter before measurement is performed\n",
    "*   lockins: Tuple of lockins\n",
    "*   write_period: The time after which the data is actually written to the database.\n",
    "*   threading: For each element which are True, write_in_background, buffer_reset, and send_trigger and get_trace will be threaded respectively\n",
    "*  channels: channels to get from the buffer. 0 gets both channels\n",
    "*   attempts_to_get: Maximum number of attempts to try to get the buffer if it fails\n",
    "*  delay_fast_increase: Amount to increase delay_fast if getting the buffer fails\n"
   ]
  },
  {
   "cell_type": "code",
   "execution_count": 7,
   "id": "c08ee7a1",
   "metadata": {},
   "outputs": [
    {
     "name": "stderr",
     "output_type": "stream",
     "text": [
      "Slow parameter:   0%|          | 0/10 [00:00<?, ?it/s]c:\\users\\farzad\\documents\\rasmus\\fork_qcodes\\qcodes\\qcodes\\dataset\\measurements.py:493: UserWarning: The specified write period of 1.0 s will be ignored, since write_in_background==True\n",
      "  warnings.warn(f\"The specified write period of {write_period} s \"\n",
      "\n",
      "  0%|          | 0/10 [00:00<?, ?it/s]\u001b[A\n",
      "Fast parameter:   0%|          | 0/10 [00:00<?, ?it/s]\u001b[A"
     ]
    },
    {
     "name": "stdout",
     "output_type": "stream",
     "text": [
      "Starting experimental run with id: 128. \n"
     ]
    },
    {
     "name": "stderr",
     "output_type": "stream",
     "text": [
      "\n",
      "Fast parameter:  20%|██        | 2/10 [00:00<00:00, 12.90it/s]\u001b[A\n",
      "Fast parameter:  40%|████      | 4/10 [00:00<00:00, 12.75it/s]\u001b[A\n",
      "Fast parameter:  60%|██████    | 6/10 [00:00<00:00, 12.22it/s]\u001b[A\n",
      "Fast parameter:  80%|████████  | 8/10 [00:00<00:00, 11.92it/s]\u001b[A\n",
      "Fast parameter: 100%|██████████| 10/10 [00:00<00:00, 12.23it/s]\u001b[A\n",
      "Slow parameter:  10%|█         | 1/10 [00:01<00:11,  1.23s/it] \u001b[A\n",
      "  0%|          | 0/10 [00:00<?, ?it/s]\u001b[A\n",
      "Fast parameter:   0%|          | 0/10 [00:00<?, ?it/s]\u001b[A\n",
      "Fast parameter:  20%|██        | 2/10 [00:00<00:00, 12.74it/s]\u001b[A\n",
      "Fast parameter:  40%|████      | 4/10 [00:00<00:00, 12.68it/s]\u001b[A\n",
      "Fast parameter:  60%|██████    | 6/10 [00:00<00:00, 12.24it/s]\u001b[A\n",
      "Fast parameter:  80%|████████  | 8/10 [00:00<00:00, 11.98it/s]\u001b[A\n",
      "Fast parameter: 100%|██████████| 10/10 [00:00<00:00, 11.86it/s]\u001b[A\n",
      "Slow parameter:  20%|██        | 2/10 [00:02<00:09,  1.20s/it] \u001b[A\n",
      "  0%|          | 0/10 [00:00<?, ?it/s]\u001b[A\n",
      "Fast parameter:   0%|          | 0/10 [00:00<?, ?it/s]\u001b[A\n",
      "Fast parameter:  20%|██        | 2/10 [00:00<00:00, 12.50it/s]\u001b[A\n",
      "Fast parameter:  40%|████      | 4/10 [00:00<00:00, 12.70it/s]\u001b[A\n",
      "Fast parameter:  60%|██████    | 6/10 [00:00<00:00, 12.73it/s]\u001b[A\n",
      "Fast parameter:  80%|████████  | 8/10 [00:00<00:00, 12.76it/s]\u001b[A\n",
      "Fast parameter: 100%|██████████| 10/10 [00:00<00:00, 12.78it/s]\u001b[A\n",
      "                                                               \u001b[A\n",
      "  0%|          | 0/10 [00:00<?, ?it/s]\u001b[A\n",
      "Fast parameter:   0%|          | 0/10 [00:00<?, ?it/s]\u001b[A"
     ]
    },
    {
     "name": "stdout",
     "output_type": "stream",
     "text": [
      "(\"invalid literal for int() with base 10: '\\\\x10\\\\x00`\\\\x00\\\\x11\\\\x00`\\\\x00\\\\x11\\\\x00`\\\\x00\\\\x12\\\\x00`\\\\x00\\\\x13\\\\x00`\\\\x00\\\\x14\\\\x00`\\\\x00\\\\x15\\\\x00`\\\\x00\\\\x16\\\\x00`\\\\x00\\\\x17\\\\x00`\\\\x00\\\\x18\\\\x00`\\\\x00'\", 'getting lockin2_buffer_npts', 'getting lockin2_ch1_datatrace')\n",
      "1\n",
      "0.07\n",
      "getting the buffer failed, will try again\n"
     ]
    },
    {
     "name": "stderr",
     "output_type": "stream",
     "text": [
      "\n",
      "Fast parameter:  20%|██        | 2/10 [00:00<00:00, 11.36it/s]\u001b[A\n",
      "Fast parameter:  40%|████      | 4/10 [00:00<00:00, 12.07it/s]\u001b[A\n",
      "Fast parameter:  60%|██████    | 6/10 [00:00<00:00, 12.31it/s]\u001b[A\n",
      "Fast parameter:  80%|████████  | 8/10 [00:00<00:00, 12.09it/s]\u001b[A\n",
      "Fast parameter: 100%|██████████| 10/10 [00:00<00:00, 12.40it/s]\u001b[A\n",
      "Slow parameter:  30%|███       | 3/10 [00:04<00:11,  1.64s/it] \u001b[A\n",
      "  0%|          | 0/10 [00:00<?, ?it/s]\u001b[A\n",
      "Fast parameter:   0%|          | 0/10 [00:00<?, ?it/s]\u001b[A\n",
      "Fast parameter:  20%|██        | 2/10 [00:00<00:00, 12.34it/s]\u001b[A\n",
      "Fast parameter:  40%|████      | 4/10 [00:00<00:00, 12.08it/s]\u001b[A\n",
      "Fast parameter:  60%|██████    | 6/10 [00:00<00:00, 12.33it/s]\u001b[A\n",
      "Fast parameter:  80%|████████  | 8/10 [00:00<00:00, 12.52it/s]\u001b[A\n",
      "Fast parameter: 100%|██████████| 10/10 [00:00<00:00, 12.57it/s]\u001b[A\n",
      "                                                               \u001b[A\n",
      "  0%|          | 0/10 [00:00<?, ?it/s]\u001b[A\n",
      "Fast parameter:   0%|          | 0/10 [00:00<?, ?it/s]\u001b[A"
     ]
    },
    {
     "name": "stdout",
     "output_type": "stream",
     "text": [
      "('string size must be a multiple of element size', 'getting lockin2_ch1_datatrace')\n",
      "1\n",
      "0.07\n",
      "getting the buffer failed, will try again\n"
     ]
    },
    {
     "name": "stderr",
     "output_type": "stream",
     "text": [
      "\n",
      "Fast parameter:  20%|██        | 2/10 [00:00<00:00, 12.05it/s]\u001b[A\n",
      "Fast parameter:  40%|████      | 4/10 [00:00<00:00, 11.88it/s]\u001b[A\n",
      "Fast parameter:  60%|██████    | 6/10 [00:00<00:00, 11.83it/s]\u001b[A\n",
      "Fast parameter:  80%|████████  | 8/10 [00:00<00:00, 12.17it/s]\u001b[A\n",
      "Fast parameter: 100%|██████████| 10/10 [00:00<00:00, 12.04it/s]\u001b[A\n",
      "Slow parameter:  40%|████      | 4/10 [00:06<00:11,  1.85s/it] \u001b[A\n",
      "  0%|          | 0/10 [00:00<?, ?it/s]\u001b[A\n",
      "Fast parameter:   0%|          | 0/10 [00:00<?, ?it/s]\u001b[A\n",
      "Fast parameter:  20%|██        | 2/10 [00:00<00:00, 12.50it/s]\u001b[A\n",
      "Fast parameter:  40%|████      | 4/10 [00:00<00:00, 12.69it/s]\u001b[A\n",
      "Fast parameter:  60%|██████    | 6/10 [00:00<00:00, 12.75it/s]\u001b[A\n",
      "Fast parameter:  80%|████████  | 8/10 [00:00<00:00, 12.75it/s]\u001b[A\n",
      "Fast parameter: 100%|██████████| 10/10 [00:00<00:00, 12.77it/s]\u001b[A\n",
      "                                                               \u001b[A\n",
      "  0%|          | 0/10 [00:00<?, ?it/s]\u001b[A\n",
      "Fast parameter:   0%|          | 0/10 [00:00<?, ?it/s]\u001b[A"
     ]
    },
    {
     "name": "stdout",
     "output_type": "stream",
     "text": [
      "('string size must be a multiple of element size', 'getting lockin2_ch1_datatrace')\n",
      "1\n",
      "0.07\n",
      "getting the buffer failed, will try again\n"
     ]
    },
    {
     "name": "stderr",
     "output_type": "stream",
     "text": [
      "\n",
      "Fast parameter:  20%|██        | 2/10 [00:00<00:00, 11.83it/s]\u001b[A\n",
      "Fast parameter:  40%|████      | 4/10 [00:00<00:00, 12.53it/s]\u001b[A\n",
      "Fast parameter:  60%|██████    | 6/10 [00:00<00:00, 12.52it/s]\u001b[A\n",
      "Fast parameter:  80%|████████  | 8/10 [00:00<00:00, 12.59it/s]\u001b[A\n",
      "Fast parameter: 100%|██████████| 10/10 [00:00<00:00, 12.66it/s]\u001b[A\n",
      "Slow parameter:  50%|█████     | 5/10 [00:08<00:09,  1.95s/it] \u001b[A\n",
      "  0%|          | 0/10 [00:00<?, ?it/s]\u001b[A\n",
      "Fast parameter:   0%|          | 0/10 [00:00<?, ?it/s]\u001b[A\n",
      "Fast parameter:  20%|██        | 2/10 [00:00<00:00, 12.05it/s]\u001b[A\n",
      "Fast parameter:  40%|████      | 4/10 [00:00<00:00, 12.40it/s]\u001b[A\n",
      "Fast parameter:  60%|██████    | 6/10 [00:00<00:00, 12.52it/s]\u001b[A\n",
      "Fast parameter:  80%|████████  | 8/10 [00:00<00:00, 12.68it/s]\u001b[A\n",
      "Fast parameter: 100%|██████████| 10/10 [00:00<00:00, 12.76it/s]\u001b[A\n",
      "Slow parameter:  60%|██████    | 6/10 [00:09<00:06,  1.67s/it] \u001b[A\n",
      "  0%|          | 0/10 [00:00<?, ?it/s]\u001b[A\n",
      "Fast parameter:   0%|          | 0/10 [00:00<?, ?it/s]\u001b[A\n",
      "Fast parameter:  20%|██        | 2/10 [00:00<00:00, 12.87it/s]\u001b[A\n",
      "Fast parameter:  40%|████      | 4/10 [00:00<00:00, 12.86it/s]\u001b[A\n",
      "Fast parameter:  60%|██████    | 6/10 [00:00<00:00, 12.78it/s]\u001b[A\n",
      "Fast parameter:  80%|████████  | 8/10 [00:00<00:00, 12.77it/s]\u001b[A\n",
      "Fast parameter: 100%|██████████| 10/10 [00:00<00:00, 12.39it/s]\u001b[A\n",
      "Slow parameter:  70%|███████   | 7/10 [00:11<00:04,  1.49s/it] \u001b[A\n",
      "  0%|          | 0/10 [00:00<?, ?it/s]\u001b[A\n",
      "Fast parameter:   0%|          | 0/10 [00:00<?, ?it/s]\u001b[A\n",
      "Fast parameter:  20%|██        | 2/10 [00:00<00:00, 12.83it/s]\u001b[A\n",
      "Fast parameter:  40%|████      | 4/10 [00:00<00:00, 12.17it/s]\u001b[A\n",
      "Fast parameter:  60%|██████    | 6/10 [00:00<00:00, 12.36it/s]\u001b[A\n",
      "Fast parameter:  80%|████████  | 8/10 [00:00<00:00, 12.14it/s]\u001b[A\n",
      "Fast parameter: 100%|██████████| 10/10 [00:00<00:00, 11.95it/s]\u001b[A\n",
      "Slow parameter:  80%|████████  | 8/10 [00:12<00:02,  1.40s/it] \u001b[A\n",
      "  0%|          | 0/10 [00:00<?, ?it/s]\u001b[A\n",
      "Fast parameter:   0%|          | 0/10 [00:00<?, ?it/s]\u001b[A\n",
      "Fast parameter:  20%|██        | 2/10 [00:00<00:00, 12.68it/s]\u001b[A\n",
      "Fast parameter:  40%|████      | 4/10 [00:00<00:00, 12.86it/s]\u001b[A\n",
      "Fast parameter:  60%|██████    | 6/10 [00:00<00:00, 12.83it/s]\u001b[A\n",
      "Fast parameter:  80%|████████  | 8/10 [00:00<00:00, 12.85it/s]\u001b[A\n",
      "Fast parameter: 100%|██████████| 10/10 [00:00<00:00, 12.88it/s]\u001b[A\n",
      "Slow parameter:  90%|█████████ | 9/10 [00:13<00:01,  1.31s/it] \u001b[A\n",
      "  0%|          | 0/10 [00:00<?, ?it/s]\u001b[A\n",
      "Fast parameter:   0%|          | 0/10 [00:00<?, ?it/s]\u001b[A\n",
      "Fast parameter:  20%|██        | 2/10 [00:00<00:00, 12.81it/s]\u001b[A\n",
      "Fast parameter:  40%|████      | 4/10 [00:00<00:00, 12.81it/s]\u001b[A\n",
      "Fast parameter:  60%|██████    | 6/10 [00:00<00:00, 12.88it/s]\u001b[A\n",
      "Fast parameter:  80%|████████  | 8/10 [00:00<00:00, 12.80it/s]\u001b[A\n",
      "Fast parameter: 100%|██████████| 10/10 [00:00<00:00, 12.39it/s]\u001b[A\n",
      "Slow parameter: 100%|██████████| 10/10 [00:14<00:00,  1.46s/it]\u001b[A\n"
     ]
    }
   ],
   "source": [
    "datatuple = do2d_multi(param_slow = slow.v_now,\n",
    "           start_slow = 0,\n",
    "           stop_slow = 0.5,\n",
    "           num_points_slow = 10,\n",
    "           delay_slow = 0.05,\n",
    "           param_fast = fast.v_now,\n",
    "           start_fast = 0,\n",
    "           stop_fast = 0.5,\n",
    "           num_points_fast = 10, \n",
    "           delay_fast = 0.07,\n",
    "           lockins = lockins,\n",
    "           write_period = 1,\n",
    "           threading=[True,False,False,True],\n",
    "           channels = 0,\n",
    "           attempts_to_get=50,\n",
    "           delay_fast_increase=0.00\n",
    "              )"
   ]
  },
  {
   "cell_type": "code",
   "execution_count": 9,
   "id": "f3beaa69",
   "metadata": {},
   "outputs": [
    {
     "data": {
      "text/plain": [
       "([<AxesSubplot:title={'center':'Run #128, Experiment tutorial_exp (no sample)'}, xlabel='v_now (mV)', ylabel='v_now (mV)'>,\n",
       "  <AxesSubplot:title={'center':'Run #128, Experiment tutorial_exp (no sample)'}, xlabel='v_now (mV)', ylabel='v_now (mV)'>,\n",
       "  <AxesSubplot:title={'center':'Run #128, Experiment tutorial_exp (no sample)'}, xlabel='v_now (mV)', ylabel='v_now (mV)'>,\n",
       "  <AxesSubplot:title={'center':'Run #128, Experiment tutorial_exp (no sample)'}, xlabel='v_now (mV)', ylabel='v_now (mV)'>],\n",
       " [<matplotlib.colorbar.Colorbar at 0x200650c0f10>,\n",
       "  <matplotlib.colorbar.Colorbar at 0x2006510f8e0>,\n",
       "  <matplotlib.colorbar.Colorbar at 0x200651455e0>,\n",
       "  <matplotlib.colorbar.Colorbar at 0x2006519c670>])"
      ]
     },
     "execution_count": 9,
     "metadata": {},
     "output_type": "execute_result"
    },
    {
     "data": {
      "image/png": "[encoded data removed]",
      "text/plain": [
       "<Figure size 432x288 with 2 Axes>"
      ]
     },
     "metadata": {
      "needs_background": "light"
     },
     "output_type": "display_data"
    },
    {
     "data": {
      "image/png": "[encoded data removed]",
      "text/plain": [
       "<Figure size 432x288 with 2 Axes>"
      ]
     },
     "metadata": {
      "needs_background": "light"
     },
     "output_type": "display_data"
    },
    {
     "data": {
      "image/png": "[encoded data removed]",
      "text/plain": [
       "<Figure size 432x288 with 2 Axes>"
      ]
     },
     "metadata": {
      "needs_background": "light"
     },
     "output_type": "display_data"
    },
    {
     "data": {
      "image/png": "[encoded data removed]",
      "text/plain": [
       "<Figure size 432x288 with 2 Axes>"
      ]
     },
     "metadata": {
      "needs_background": "light"
     },
     "output_type": "display_data"
    }
   ],
   "source": [
    "# ploting the data\n",
    "plot_dataset(datatuple)"
   ]
  },
  {
   "cell_type": "markdown",
   "id": "7681f698",
   "metadata": {},
   "source": [
    "### Adding a non-buffered parameter to measure"
   ]
  },
  {
   "cell_type": "code",
   "execution_count": 10,
   "id": "1ac56411",
   "metadata": {},
   "outputs": [],
   "source": [
    "devices_no_buffer = (a1.volt,)"
   ]
  },
  {
   "cell_type": "code",
   "execution_count": 11,
   "id": "159442ef",
   "metadata": {},
   "outputs": [
    {
     "name": "stderr",
     "output_type": "stream",
     "text": [
      "Slow parameter:   0%|          | 0/10 [00:00<?, ?it/s]\n",
      "  0%|          | 0/10 [00:00<?, ?it/s]"
     ]
    },
    {
     "name": "stdout",
     "output_type": "stream",
     "text": [
      "Starting experimental run with id: 129. \n",
      "Starting experimental run with id: 130. \n"
     ]
    },
    {
     "name": "stderr",
     "output_type": "stream",
     "text": [
      "\u001b[A\n",
      "Fast parameter:   0%|          | 0/10 [00:00<?, ?it/s]\u001b[A\n",
      "Fast parameter:  10%|█         | 1/10 [00:00<00:05,  1.50it/s]\u001b[A\n",
      "Fast parameter:  20%|██        | 2/10 [00:01<00:04,  1.75it/s]\u001b[A\n",
      "Fast parameter:  30%|███       | 3/10 [00:01<00:03,  1.85it/s]\u001b[A\n",
      "Fast parameter:  40%|████      | 4/10 [00:02<00:03,  1.91it/s]\u001b[A\n",
      "Fast parameter:  50%|█████     | 5/10 [00:02<00:02,  1.94it/s]\u001b[A\n",
      "Fast parameter:  60%|██████    | 6/10 [00:03<00:02,  1.96it/s]\u001b[A\n",
      "Fast parameter:  70%|███████   | 7/10 [00:03<00:01,  1.98it/s]\u001b[A\n",
      "Fast parameter:  80%|████████  | 8/10 [00:04<00:01,  1.99it/s]\u001b[A\n",
      "Fast parameter:  90%|█████████ | 9/10 [00:04<00:00,  1.99it/s]\u001b[A\n",
      "Fast parameter: 100%|██████████| 10/10 [00:05<00:00,  1.99it/s]\u001b[A\n",
      "Slow parameter:  10%|█         | 1/10 [00:05<00:49,  5.53s/it] \u001b[A\n",
      "  0%|          | 0/10 [00:00<?, ?it/s]\u001b[A\n",
      "Fast parameter:   0%|          | 0/10 [00:00<?, ?it/s]\u001b[A\n",
      "Fast parameter:  10%|█         | 1/10 [00:00<00:04,  2.03it/s]\u001b[A\n",
      "Fast parameter:  20%|██        | 2/10 [00:00<00:03,  2.02it/s]\u001b[A\n",
      "Fast parameter:  30%|███       | 3/10 [00:01<00:03,  1.99it/s]\u001b[A\n",
      "Fast parameter:  40%|████      | 4/10 [00:02<00:03,  1.99it/s]\u001b[A\n",
      "Fast parameter:  50%|█████     | 5/10 [00:02<00:02,  2.00it/s]\u001b[A\n",
      "Fast parameter:  60%|██████    | 6/10 [00:03<00:02,  2.00it/s]\u001b[A\n",
      "Fast parameter:  70%|███████   | 7/10 [00:03<00:01,  2.00it/s]\u001b[A\n",
      "Fast parameter:  80%|████████  | 8/10 [00:03<00:00,  2.00it/s]\u001b[A\n",
      "Fast parameter:  90%|█████████ | 9/10 [00:04<00:00,  2.00it/s]\u001b[A\n",
      "Fast parameter: 100%|██████████| 10/10 [00:05<00:00,  2.00it/s]\u001b[A\n",
      "Slow parameter:  20%|██        | 2/10 [00:10<00:42,  5.37s/it] \u001b[A\n",
      "  0%|          | 0/10 [00:00<?, ?it/s]\u001b[A\n",
      "Fast parameter:   0%|          | 0/10 [00:00<?, ?it/s]\u001b[A\n",
      "Fast parameter:  10%|█         | 1/10 [00:00<00:04,  2.02it/s]\u001b[A\n",
      "Fast parameter:  20%|██        | 2/10 [00:01<00:04,  1.98it/s]\u001b[A\n",
      "Fast parameter:  30%|███       | 3/10 [00:01<00:03,  1.99it/s]\u001b[A\n",
      "Fast parameter:  40%|████      | 4/10 [00:02<00:02,  2.00it/s]\u001b[A\n",
      "Fast parameter:  50%|█████     | 5/10 [00:02<00:02,  2.00it/s]\u001b[A\n",
      "Fast parameter:  60%|██████    | 6/10 [00:03<00:02,  1.99it/s]\u001b[A\n",
      "Fast parameter:  70%|███████   | 7/10 [00:03<00:01,  1.99it/s]\u001b[A\n",
      "Fast parameter:  80%|████████  | 8/10 [00:04<00:01,  1.99it/s]\u001b[A\n",
      "Fast parameter:  90%|█████████ | 9/10 [00:04<00:00,  1.99it/s]\u001b[A\n",
      "Fast parameter: 100%|██████████| 10/10 [00:05<00:00,  1.98it/s]\u001b[A\n",
      "Slow parameter:  30%|███       | 3/10 [00:16<00:37,  5.34s/it] \u001b[A\n",
      "  0%|          | 0/10 [00:00<?, ?it/s]\u001b[A\n",
      "Fast parameter:   0%|          | 0/10 [00:00<?, ?it/s]\u001b[A\n",
      "Fast parameter:  10%|█         | 1/10 [00:00<00:04,  2.02it/s]\u001b[A\n",
      "Fast parameter:  20%|██        | 2/10 [00:01<00:03,  2.00it/s]\u001b[A\n",
      "Fast parameter:  30%|███       | 3/10 [00:01<00:03,  2.01it/s]\u001b[A\n",
      "Fast parameter:  40%|████      | 4/10 [00:01<00:02,  2.00it/s]\u001b[A\n",
      "Fast parameter:  50%|█████     | 5/10 [00:02<00:02,  2.01it/s]\u001b[A\n",
      "Fast parameter:  60%|██████    | 6/10 [00:02<00:01,  2.01it/s]\u001b[A\n",
      "Fast parameter:  70%|███████   | 7/10 [00:03<00:01,  2.01it/s]\u001b[A\n",
      "Fast parameter:  80%|████████  | 8/10 [00:04<00:01,  1.99it/s]\u001b[A\n",
      "Fast parameter:  90%|█████████ | 9/10 [00:04<00:00,  2.00it/s]\u001b[A\n",
      "Fast parameter: 100%|██████████| 10/10 [00:04<00:00,  2.00it/s]\u001b[A\n",
      "Slow parameter:  40%|████      | 4/10 [00:21<00:31,  5.32s/it] \u001b[A\n",
      "  0%|          | 0/10 [00:00<?, ?it/s]\u001b[A\n",
      "Fast parameter:   0%|          | 0/10 [00:00<?, ?it/s]\u001b[A\n",
      "Fast parameter:  10%|█         | 1/10 [00:00<00:04,  1.98it/s]\u001b[A\n",
      "Fast parameter:  20%|██        | 2/10 [00:01<00:04,  1.98it/s]\u001b[A\n",
      "Fast parameter:  30%|███       | 3/10 [00:01<00:03,  1.98it/s]\u001b[A\n",
      "Fast parameter:  40%|████      | 4/10 [00:02<00:03,  2.00it/s]\u001b[A\n",
      "Fast parameter:  50%|█████     | 5/10 [00:02<00:02,  2.00it/s]\u001b[A\n",
      "Fast parameter:  60%|██████    | 6/10 [00:03<00:02,  2.00it/s]\u001b[A\n",
      "Fast parameter:  70%|███████   | 7/10 [00:03<00:01,  2.00it/s]\u001b[A\n",
      "Fast parameter:  80%|████████  | 8/10 [00:04<00:00,  2.00it/s]\u001b[A\n",
      "Fast parameter:  90%|█████████ | 9/10 [00:04<00:00,  2.00it/s]\u001b[A\n",
      "Fast parameter: 100%|██████████| 10/10 [00:05<00:00,  2.00it/s]\u001b[A\n",
      "Slow parameter:  50%|█████     | 5/10 [00:26<00:26,  5.31s/it] \u001b[A\n",
      "  0%|          | 0/10 [00:00<?, ?it/s]\u001b[A\n",
      "Fast parameter:   0%|          | 0/10 [00:00<?, ?it/s]\u001b[A\n",
      "Fast parameter:  10%|█         | 1/10 [00:00<00:04,  1.98it/s]\u001b[A\n",
      "Fast parameter:  20%|██        | 2/10 [00:01<00:04,  1.99it/s]\u001b[A\n",
      "Fast parameter:  30%|███       | 3/10 [00:01<00:03,  2.00it/s]\u001b[A\n",
      "Fast parameter:  40%|████      | 4/10 [00:02<00:02,  2.00it/s]\u001b[A\n",
      "Fast parameter:  50%|█████     | 5/10 [00:02<00:02,  2.01it/s]\u001b[A\n",
      "Fast parameter:  60%|██████    | 6/10 [00:02<00:01,  2.01it/s]\u001b[A\n",
      "Fast parameter:  70%|███████   | 7/10 [00:03<00:01,  2.00it/s]\u001b[A\n",
      "Fast parameter:  80%|████████  | 8/10 [00:03<00:00,  2.00it/s]\u001b[A\n",
      "Fast parameter:  90%|█████████ | 9/10 [00:04<00:00,  2.00it/s]\u001b[A\n",
      "Fast parameter: 100%|██████████| 10/10 [00:04<00:00,  2.01it/s]\u001b[A\n",
      "Slow parameter:  60%|██████    | 6/10 [00:31<00:21,  5.30s/it] \u001b[A\n",
      "  0%|          | 0/10 [00:00<?, ?it/s]\u001b[A\n",
      "Fast parameter:   0%|          | 0/10 [00:00<?, ?it/s]\u001b[A\n",
      "Fast parameter:  10%|█         | 1/10 [00:00<00:04,  2.03it/s]\u001b[A\n",
      "Fast parameter:  20%|██        | 2/10 [00:00<00:03,  2.02it/s]\u001b[A\n",
      "Fast parameter:  30%|███       | 3/10 [00:01<00:03,  2.01it/s]\u001b[A\n",
      "Fast parameter:  40%|████      | 4/10 [00:01<00:02,  2.01it/s]\u001b[A\n",
      "Fast parameter:  50%|█████     | 5/10 [00:02<00:02,  2.01it/s]\u001b[A\n",
      "Fast parameter:  60%|██████    | 6/10 [00:02<00:01,  2.00it/s]\u001b[A\n",
      "Fast parameter:  70%|███████   | 7/10 [00:03<00:01,  2.01it/s]\u001b[A\n",
      "Fast parameter:  80%|████████  | 8/10 [00:03<00:00,  2.01it/s]\u001b[A\n",
      "Fast parameter:  90%|█████████ | 9/10 [00:04<00:00,  2.00it/s]\u001b[A\n",
      "Fast parameter: 100%|██████████| 10/10 [00:04<00:00,  2.00it/s]\u001b[A\n",
      "Slow parameter:  70%|███████   | 7/10 [00:37<00:15,  5.29s/it] \u001b[A\n",
      "  0%|          | 0/10 [00:00<?, ?it/s]\u001b[A\n",
      "Fast parameter:   0%|          | 0/10 [00:00<?, ?it/s]\u001b[A\n",
      "Fast parameter:  10%|█         | 1/10 [00:00<00:04,  1.98it/s]\u001b[A\n",
      "Fast parameter:  20%|██        | 2/10 [00:01<00:04,  2.00it/s]\u001b[A\n",
      "Fast parameter:  30%|███       | 3/10 [00:01<00:03,  1.99it/s]\u001b[A\n",
      "Fast parameter:  40%|████      | 4/10 [00:02<00:03,  2.00it/s]\u001b[A\n",
      "Fast parameter:  50%|█████     | 5/10 [00:02<00:02,  2.00it/s]\u001b[A\n",
      "Fast parameter:  60%|██████    | 6/10 [00:03<00:01,  2.00it/s]\u001b[A\n",
      "Fast parameter:  70%|███████   | 7/10 [00:03<00:01,  2.00it/s]\u001b[A\n",
      "Fast parameter:  80%|████████  | 8/10 [00:04<00:00,  2.00it/s]\u001b[A\n",
      "Fast parameter:  90%|█████████ | 9/10 [00:04<00:00,  2.00it/s]\u001b[A\n",
      "Fast parameter: 100%|██████████| 10/10 [00:05<00:00,  2.00it/s]\u001b[A\n",
      "Slow parameter:  80%|████████  | 8/10 [00:42<00:10,  5.29s/it] \u001b[A\n",
      "  0%|          | 0/10 [00:00<?, ?it/s]\u001b[A\n",
      "Fast parameter:   0%|          | 0/10 [00:00<?, ?it/s]\u001b[A\n",
      "Fast parameter:  10%|█         | 1/10 [00:00<00:04,  1.96it/s]\u001b[A\n",
      "Fast parameter:  20%|██        | 2/10 [00:01<00:04,  1.98it/s]\u001b[A\n",
      "Fast parameter:  30%|███       | 3/10 [00:01<00:03,  1.99it/s]\u001b[A\n",
      "Fast parameter:  40%|████      | 4/10 [00:02<00:03,  1.99it/s]\u001b[A\n",
      "Fast parameter:  50%|█████     | 5/10 [00:02<00:02,  2.00it/s]\u001b[A\n",
      "Fast parameter:  60%|██████    | 6/10 [00:03<00:01,  2.00it/s]\u001b[A\n",
      "Fast parameter:  70%|███████   | 7/10 [00:03<00:01,  2.00it/s]\u001b[A\n",
      "Fast parameter:  80%|████████  | 8/10 [00:04<00:00,  2.01it/s]\u001b[A\n",
      "Fast parameter:  90%|█████████ | 9/10 [00:04<00:00,  1.99it/s]\u001b[A\n",
      "Fast parameter: 100%|██████████| 10/10 [00:05<00:00,  1.99it/s]\u001b[A\n",
      "Slow parameter:  90%|█████████ | 9/10 [00:47<00:05,  5.29s/it] \u001b[A\n",
      "  0%|          | 0/10 [00:00<?, ?it/s]\u001b[A\n",
      "Fast parameter:   0%|          | 0/10 [00:00<?, ?it/s]\u001b[A\n",
      "Fast parameter:  10%|█         | 1/10 [00:00<00:04,  2.02it/s]\u001b[A\n",
      "Fast parameter:  20%|██        | 2/10 [00:00<00:03,  2.01it/s]\u001b[A\n",
      "Fast parameter:  30%|███       | 3/10 [00:01<00:03,  2.01it/s]\u001b[A\n",
      "Fast parameter:  40%|████      | 4/10 [00:02<00:03,  2.00it/s]\u001b[A\n",
      "Fast parameter:  50%|█████     | 5/10 [00:02<00:02,  2.00it/s]\u001b[A\n",
      "Fast parameter:  60%|██████    | 6/10 [00:02<00:01,  2.00it/s]\u001b[A\n",
      "Fast parameter:  70%|███████   | 7/10 [00:03<00:01,  1.99it/s]\u001b[A\n",
      "Fast parameter:  80%|████████  | 8/10 [00:04<00:01,  2.00it/s]\u001b[A\n",
      "Fast parameter:  90%|█████████ | 9/10 [00:04<00:00,  1.99it/s]\u001b[A\n",
      "Fast parameter: 100%|██████████| 10/10 [00:05<00:00,  1.99it/s]\u001b[A\n"
     ]
    },
    {
     "name": "stderr",
     "output_type": "stream",
     "text": [
      "Slow parameter: 100%|██████████| 10/10 [00:53<00:00,  5.31s/it]\u001b[A\n"
     ]
    }
   ],
   "source": [
    "datatuple = do2d_multi(param_slow = slow.v_now,\n",
    "           start_slow = 0,\n",
    "           stop_slow = 0.5,\n",
    "           num_points_slow = 10,\n",
    "           delay_slow = 0.05,\n",
    "           param_fast = fast.v_now,\n",
    "           start_fast = 0,\n",
    "           stop_fast = 0.5,\n",
    "           num_points_fast = 10, \n",
    "           delay_fast = 0.07,\n",
    "           lockins = lockins,\n",
    "           devices_no_buffer = devices_no_buffer, \n",
    "           channels = 1,\n",
    "           threading=[True,False,False,True],\n",
    "           attempts_to_get=50,\n",
    "           delay_fast_increase=0.00\n",
    "              )"
   ]
  },
  {
   "cell_type": "code",
   "execution_count": 12,
   "id": "05bb2550",
   "metadata": {},
   "outputs": [
    {
     "data": {
      "text/plain": [
       "([<AxesSubplot:title={'center':'Run #129, Experiment tutorial_exp (no sample)'}, xlabel='v_now (mV)', ylabel='v_now (mV)'>,\n",
       "  <AxesSubplot:title={'center':'Run #129, Experiment tutorial_exp (no sample)'}, xlabel='v_now (mV)', ylabel='v_now (mV)'>],\n",
       " [<matplotlib.colorbar.Colorbar at 0x2006535c100>,\n",
       "  <matplotlib.colorbar.Colorbar at 0x2006539f6a0>])"
      ]
     },
     "execution_count": 12,
     "metadata": {},
     "output_type": "execute_result"
    },
    {
     "data": {
      "image/png": "[encoded data removed]",
      "text/plain": [
       "<Figure size 432x288 with 2 Axes>"
      ]
     },
     "metadata": {
      "needs_background": "light"
     },
     "output_type": "display_data"
    },
    {
     "data": {
      "image/png": "[encoded data removed]",
      "text/plain": [
       "<Figure size 432x288 with 2 Axes>"
      ]
     },
     "metadata": {
      "needs_background": "light"
     },
     "output_type": "display_data"
    }
   ],
   "source": [
    "plot_dataset(datatuple[0])"
   ]
  },
  {
   "cell_type": "code",
   "execution_count": 13,
   "id": "6d0dece6",
   "metadata": {},
   "outputs": [
    {
     "data": {
      "text/plain": [
       "([<AxesSubplot:title={'center':'Run #130, Experiment tutorial_exp (no sample)'}, xlabel='v_now (mV)', ylabel='v_now (mV)'>],\n",
       " [<matplotlib.colorbar.Colorbar at 0x2006643b310>])"
      ]
     },
     "execution_count": 13,
     "metadata": {},
     "output_type": "execute_result"
    },
    {
     "data": {
      "image/png": "[encoded data removed]",
      "text/plain": [
       "<Figure size 432x288 with 2 Axes>"
      ]
     },
     "metadata": {
      "needs_background": "light"
     },
     "output_type": "display_data"
    }
   ],
   "source": [
    "plot_dataset(datatuple[1])"
   ]
  },
  {
   "cell_type": "markdown",
   "id": "32e14751",
   "metadata": {},
   "source": [
    "A file 'do2dmulti.log' is generated with timing information"
   ]
  }
 ],
 "metadata": {
  "kernelspec": {
   "display_name": "Python 3",
   "language": "python",
   "name": "python3"
  },
  "language_info": {
   "codemirror_mode": {
    "name": "ipython",
    "version": 3
   },
   "file_extension": ".py",
   "mimetype": "text/x-python",
   "name": "python",
   "nbconvert_exporter": "python",
   "pygments_lexer": "ipython3",
   "version": "3.8.8"
  }
 },
 "nbformat": 4,
 "nbformat_minor": 5
}
