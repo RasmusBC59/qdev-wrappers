{
 "cells": [
  {
   "cell_type": "markdown",
   "metadata": {},
   "source": [
    "# Example with Stanford SR830 Driver Extension\n",
    "\n",
    "The extension adds the functionallety to sweep a DelegateParameter\n",
    "from an other instruments while writiing to the buffer by sending software triggers."
   ]
  },
  {
   "cell_type": "code",
   "execution_count": 1,
   "metadata": {},
   "outputs": [
    {
     "name": "stdout",
     "output_type": "stream",
     "text": [
      "Upgrading database; v0 -> v1: : 0it [00:00, ?it/s]\n",
      "Upgrading database; v1 -> v2: 100%|██████████| 1/1 [00:00<00:00, 335.65it/s]\n",
      "Upgrading database; v2 -> v3: : 0it [00:00, ?it/s]\n",
      "Upgrading database; v3 -> v4: : 0it [00:00, ?it/s]\n",
      "Upgrading database; v4 -> v5: 100%|██████████| 1/1 [00:00<00:00, 333.33it/s]\n",
      "Upgrading database; v5 -> v6: : 0it [00:00, ?it/s]\n",
      "Upgrading database; v6 -> v7: 100%|██████████| 1/1 [00:00<00:00, 99.66it/s]\n",
      "Upgrading database; v7 -> v8: 100%|██████████| 1/1 [00:00<00:00, 249.90it/s]\n",
      "Upgrading database; v8 -> v9: 100%|██████████| 1/1 [00:00<00:00, 333.30it/s]\n"
     ]
    },
    {
     "data": {
      "text/plain": [
       "tutorial_exp#no sample#1@C:\\Users\\Farzad\\Documents\\Rasmus\\SR830ext\\tutorial_doND.db\n",
       "-----------------------------------------------------------------------------------"
      ]
     },
     "execution_count": 1,
     "metadata": {},
     "output_type": "execute_result"
    }
   ],
   "source": [
    "# IMPORTS\n",
    "\n",
    "#%matplotlib notebook\n",
    "import qcodes as qc\n",
    "import os\n",
    "import numpy as np\n",
    "from qcodes.instrument_drivers.stanford_research.SR830 import SR830\n",
    "from SR830_ext import SR830_ext\n",
    "from qcodes.instrument.base import Instrument\n",
    "from qcodes.utils.validators import Numbers, Arrays\n",
    "from qcodes.utils.dataset import doNd\n",
    "\n",
    "\n",
    "\n",
    "\n",
    "from qcodes import initialise_or_create_database_at, load_or_create_experiment, load_by_id\n",
    "tutorial_db_path = os.path.join(os.getcwd(), 'tutorial_doND.db')\n",
    "initialise_or_create_database_at(tutorial_db_path)\n",
    "load_or_create_experiment(experiment_name='tutorial_exp', sample_name=\"no sample\")"
   ]
  },
  {
   "cell_type": "markdown",
   "metadata": {},
   "source": [
    "## Dummy Generator \n",
    "Virtual instrument to be used instead of af DAC or other external setting parameter"
   ]
  },
  {
   "cell_type": "code",
   "execution_count": 2,
   "metadata": {},
   "outputs": [],
   "source": [
    "class DummyGenerator(Instrument):\n",
    "\n",
    "    def __init__(self, name, **kwargs):\n",
    "\n",
    "        super().__init__(name, **kwargs)\n",
    "\n",
    "        self.add_parameter('v_start',\n",
    "                           initial_value=0,\n",
    "                           unit='V',\n",
    "                           label='v start',\n",
    "                           vals=Numbers(0,1e3),\n",
    "                           get_cmd=None,\n",
    "                           set_cmd=None)\n",
    "\n",
    "        self.add_parameter('v_stop',\n",
    "                           initial_value=1,\n",
    "                           unit='V',\n",
    "                           label='v stop',\n",
    "                           vals=Numbers(1,1e3),\n",
    "                           get_cmd=None,\n",
    "                           set_cmd=None)\n",
    "        \n",
    "        self.add_parameter('v_now',\n",
    "                           initial_value=0,\n",
    "                           unit='V',\n",
    "                           label='v_now',\n",
    "                           vals=Numbers(self.v_start(),self.v_stop()),\n",
    "                           get_cmd=None,\n",
    "                           set_cmd=None)"
   ]
  },
  {
   "cell_type": "code",
   "execution_count": 3,
   "metadata": {},
   "outputs": [],
   "source": [
    "# The parameter to be set in the outer loop\n",
    "slow = DummyGenerator('slow')\n",
    "\n",
    "# The parameter to be set in the inner loop \n",
    "fast = DummyGenerator('fast')"
   ]
  },
  {
   "cell_type": "markdown",
   "metadata": {},
   "source": [
    "### Connect to and Initialze the SR830"
   ]
  },
  {
   "cell_type": "code",
   "execution_count": 4,
   "metadata": {},
   "outputs": [
    {
     "name": "stdout",
     "output_type": "stream",
     "text": [
      "Connected to: Stanford_Research_Systems SR830 (serial:s/n40974, firmware:ver1.07) in 0.94s\n"
     ]
    }
   ],
   "source": [
    "sr = SR830_ext('lockin', 'GPIB0::1::INSTR')\n",
    "sr.ch1_display('X')\n",
    "sr.ch1_ratio('none')\n",
    "sr.buffer_SR('Trigger')\n",
    "sr.buffer_trig_mode.set('ON')"
   ]
  },
  {
   "cell_type": "markdown",
   "metadata": {},
   "source": [
    "#### Set the sweep parameter "
   ]
  },
  {
   "cell_type": "code",
   "execution_count": 5,
   "metadata": {},
   "outputs": [],
   "source": [
    "sr.set_sweep_parameters(fast.v_now, 0,0.5,20,0.2, label=\"Voltage\")"
   ]
  },
  {
   "cell_type": "markdown",
   "metadata": {},
   "source": [
    "### Measure using the QCoDeS do0d and do1d"
   ]
  },
  {
   "cell_type": "code",
   "execution_count": 6,
   "metadata": {},
   "outputs": [
    {
     "name": "stdout",
     "output_type": "stream",
     "text": [
      "Starting experimental run with id: 1. \n"
     ]
    },
    {
     "data": {
      "text/plain": [
       "(results #1@C:\\Users\\Farzad\\Documents\\Rasmus\\SR830ext\\tutorial_doND.db\n",
       " ---------------------------------------------------------------------\n",
       " lockin_setpoints - array\n",
       " lockin_trace - array,\n",
       " [<AxesSubplot:title={'center':'Run #1, Experiment tutorial_exp (no sample)'}, xlabel='Voltage (mV)', ylabel='Signal (μV)'>],\n",
       " [None])"
      ]
     },
     "execution_count": 6,
     "metadata": {},
     "output_type": "execute_result"
    },
    {
     "data": {
      "image/png": "[encoded data removed]",
      "text/plain": [
       "<Figure size 432x288 with 1 Axes>"
      ]
     },
     "metadata": {
      "needs_background": "light"
     },
     "output_type": "display_data"
    }
   ],
   "source": [
    "doNd.do0d(sr.trace,do_plot=True)"
   ]
  },
  {
   "cell_type": "code",
   "execution_count": 7,
   "metadata": {},
   "outputs": [
    {
     "name": "stdout",
     "output_type": "stream",
     "text": [
      "Starting experimental run with id: 2. \n"
     ]
    },
    {
     "data": {
      "text/plain": [
       "(results #2@C:\\Users\\Farzad\\Documents\\Rasmus\\SR830ext\\tutorial_doND.db\n",
       " ---------------------------------------------------------------------\n",
       " slow_v_now - numeric\n",
       " lockin_setpoints - array\n",
       " lockin_trace - array,\n",
       " [<AxesSubplot:title={'center':'Run #2, Experiment tutorial_exp (no sample)'}, xlabel='v_now (V)', ylabel='Voltage (mV)'>],\n",
       " [<matplotlib.colorbar.Colorbar at 0x1d7b09a70c8>])"
      ]
     },
     "execution_count": 7,
     "metadata": {},
     "output_type": "execute_result"
    },
    {
     "data": {
      "image/png": "[encoded data removed]",
      "text/plain": [
       "<Figure size 432x288 with 2 Axes>"
      ]
     },
     "metadata": {
      "needs_background": "light"
     },
     "output_type": "display_data"
    }
   ],
   "source": [
    "doNd.do1d(slow.v_now, 0.01,1.0,20,1,sr.trace,do_plot=True)"
   ]
  },
  {
   "cell_type": "code",
   "execution_count": null,
   "metadata": {},
   "outputs": [],
   "source": []
  }
 ],
 "metadata": {
  "kernelspec": {
   "display_name": "Python 3",
   "language": "python",
   "name": "python3"
  },
  "language_info": {
   "codemirror_mode": {
    "name": "ipython",
    "version": 3
   },
   "file_extension": ".py",
   "mimetype": "text/x-python",
   "name": "python",
   "nbconvert_exporter": "python",
   "pygments_lexer": "ipython3",
   "version": "3.7.5"
  },
  "nbsphinx": {
   "execute": "never"
  }
 },
 "nbformat": 4,
 "nbformat_minor": 2
}
